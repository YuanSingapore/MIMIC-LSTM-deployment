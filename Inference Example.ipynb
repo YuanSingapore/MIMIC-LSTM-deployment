{
 "cells": [
  {
   "cell_type": "markdown",
   "id": "2d2ac385",
   "metadata": {},
   "source": [
    "## Import all the libraries"
   ]
  },
  {
   "cell_type": "code",
   "execution_count": 1,
   "id": "ee66ee3b",
   "metadata": {},
   "outputs": [],
   "source": [
    "import os\n",
    "import numpy as np\n",
    "from utils.readers import VentilatorReader\n",
    "\n",
    "from utils.preprocessing import Discretizer, Normalizer"
   ]
  },
  {
   "cell_type": "code",
   "execution_count": 2,
   "id": "d033b7e9",
   "metadata": {},
   "outputs": [],
   "source": [
    "from utils import utils\n",
    "import imp\n",
    "import os"
   ]
  },
  {
   "cell_type": "code",
   "execution_count": 3,
   "id": "aa44b519",
   "metadata": {},
   "outputs": [
    {
     "name": "stdout",
     "output_type": "stream",
     "text": [
      "listfile is:::: data/test1_listfile.csv\n"
     ]
    }
   ],
   "source": [
    "data_path='data'\n",
    "test_reader = VentilatorReader(dataset_dir=os.path.join(data_path, 'test_sub'),\n",
    "                          listfile=os.path.join(data_path, 'test1_listfile.csv'))"
   ]
  },
  {
   "cell_type": "code",
   "execution_count": 4,
   "id": "a9c0810c",
   "metadata": {},
   "outputs": [],
   "source": [
    "## normalizer\n",
    "cont_channels=[2, 3, 49, 50, 51, 52, 53, 54, 55, 56, 57, 58]\n",
    "normalizer = Normalizer(fields=cont_channels) \n",
    "normalizer_state = 'utils/los_ts1.0.input_str:previous.start_time:zero.n5e4.normalizer'\n",
    "#normalizer_state = os.path.join(os.path.dirname(__file__), normalizer_state)\n",
    "normalizer.load_params(normalizer_state)"
   ]
  },
  {
   "cell_type": "code",
   "execution_count": 5,
   "id": "8ae99f68",
   "metadata": {},
   "outputs": [
    {
     "name": "stdout",
     "output_type": "stream",
     "text": [
      "config_path~~~~~~~in preprocessing.py /home/ec2-user/SageMaker/Deployment/MIMIC-LSTM-deployment/utils/discretizer_config.json\n"
     ]
    }
   ],
   "source": [
    "## discretizer\n",
    "discretizer = Discretizer(timestep=1.0,\n",
    "                          store_masks=True,\n",
    "                          impute_strategy='previous',\n",
    "                          start_time='zero')"
   ]
  },
  {
   "cell_type": "code",
   "execution_count": 6,
   "id": "0eac1526",
   "metadata": {},
   "outputs": [],
   "source": [
    "test_data_gen = utils.BatchGen(reader=test_reader,\n",
    "                           discretizer=discretizer,\n",
    "                           normalizer=normalizer,\n",
    "                           partition='none',\n",
    "                           batch_size=8,\n",
    "                           steps=None,  \n",
    "                           shuffle=False,\n",
    "                           return_names=True)"
   ]
  },
  {
   "cell_type": "markdown",
   "id": "7a83ffae",
   "metadata": {},
   "source": [
    "## Prepare Model"
   ]
  },
  {
   "cell_type": "code",
   "execution_count": 7,
   "id": "e2b72c2d",
   "metadata": {},
   "outputs": [],
   "source": [
    "#arg_dict={'batch_norm': False, 'batch_size': 8, 'beta_1': 0.9, 'data': '/home/ec2-user/SageMaker/mimic3-benchmarks/data/ventilator', 'deep_supervision': False, 'depth': 1, 'dim': 128, 'dropout': 0.3, 'epochs': 40, 'imputation': 'previous', 'l1': 0, 'l2': 0, 'load_state': '', 'lr': 0.001, 'mode': 'test', 'network': 'source/lstm.py', 'normalizer_state': None, 'optimizer': 'adam', 'output_dir': 'output', 'partition': 'none', 'prefix': '', 'rec_dropout': 0.0, 'save_every': 1, 'size_coef': 4.0, 'small_part': False, 'timestep': 1.0, 'verbose': 2, 'header': ['Capillary refill rate->0.0', 'Capillary refill rate->1.0', 'Diastolic blood pressure', 'Fraction inspired oxygen', 'Glascow coma scale eye opening->To Pain', 'Glascow coma scale eye opening->3 To speech', 'Glascow coma scale eye opening->1 No Response', 'Glascow coma scale eye opening->4 Spontaneously', 'Glascow coma scale eye opening->None', 'Glascow coma scale eye opening->To Speech', 'Glascow coma scale eye opening->Spontaneously', 'Glascow coma scale eye opening->2 To pain', 'Glascow coma scale motor response->1 No Response', 'Glascow coma scale motor response->3 Abnorm flexion', 'Glascow coma scale motor response->Abnormal extension', 'Glascow coma scale motor response->No response', 'Glascow coma scale motor response->4 Flex-withdraws', 'Glascow coma scale motor response->Localizes Pain', 'Glascow coma scale motor response->Flex-withdraws', 'Glascow coma scale motor response->Obeys Commands', 'Glascow coma scale motor response->Abnormal Flexion', 'Glascow coma scale motor response->6 Obeys Commands', 'Glascow coma scale motor response->5 Localizes Pain', 'Glascow coma scale motor response->2 Abnorm extensn', 'Glascow coma scale total->11', 'Glascow coma scale total->10', 'Glascow coma scale total->13', 'Glascow coma scale total->12', 'Glascow coma scale total->15', 'Glascow coma scale total->14', 'Glascow coma scale total->3', 'Glascow coma scale total->5', 'Glascow coma scale total->4', 'Glascow coma scale total->7', 'Glascow coma scale total->6', 'Glascow coma scale total->9', 'Glascow coma scale total->8', 'Glascow coma scale verbal response->1 No Response', 'Glascow coma scale verbal response->No Response', 'Glascow coma scale verbal response->Confused', 'Glascow coma scale verbal response->Inappropriate Words', 'Glascow coma scale verbal response->Oriented', 'Glascow coma scale verbal response->No Response-ETT', 'Glascow coma scale verbal response->5 Oriented', 'Glascow coma scale verbal response->Incomprehensible sounds', 'Glascow coma scale verbal response->1.0 ET/Trach', 'Glascow coma scale verbal response->4 Confused', 'Glascow coma scale verbal response->2 Incomp sounds', 'Glascow coma scale verbal response->3 Inapprop words', 'Glucose', 'Heart Rate', 'Height', 'Mean blood pressure', 'Oxygen saturation', 'Respiratory rate', 'Systolic blood pressure', 'Temperature', 'Weight', 'pH', 'mask->Capillary refill rate', 'mask->Diastolic blood pressure', 'mask->Fraction inspired oxygen', 'mask->Glascow coma scale eye opening', 'mask->Glascow coma scale motor response', 'mask->Glascow coma scale total', 'mask->Glascow coma scale verbal response', 'mask->Glucose', 'mask->Heart Rate', 'mask->Height', 'mask->Mean blood pressure', 'mask->Oxygen saturation', 'mask->Respiratory rate', 'mask->Systolic blood pressure', 'mask->Temperature', 'mask->Weight', 'mask->pH'], 'task': 'ihm', 'num_classes': 1}"
   ]
  },
  {
   "cell_type": "code",
   "execution_count": 8,
   "id": "89cf8674",
   "metadata": {},
   "outputs": [],
   "source": [
    "arg_dict= {'batch_norm': False, 'batch_size': 8, 'beta_1': 0.9, 'data': '/home/ec2-user/SageMaker/mimic3-benchmarks/data/ventilator', 'deep_supervision': False, 'depth': 1, 'dim': 128, 'dropout': 0.3, 'epochs': 40, 'imputation': 'previous', 'l1': 0, 'l2': 0, 'load_state': 'mimic3models/ventilator/keras_states/k_lstm.n128.d0.3.dep1.bs8.ts1.0.partition=none.chunk22.test0.10837857292406261.state', 'lr': 0.001, 'mode': 'test', 'network': 'mimic3models/keras_models/lstm.py', 'normalizer_state': None, 'optimizer': 'adam', 'output_dir': 'mimic3models/ventilator/test', 'partition': 'none', 'prefix': '', 'rec_dropout': 0.0, 'save_every': 1, 'size_coef': 4.0, 'small_part': False, 'timestep': 1.0, 'verbose': 2, 'header': ['Capillary refill rate->0.0', 'Capillary refill rate->1.0', 'Diastolic blood pressure', 'Fraction inspired oxygen', 'Glascow coma scale eye opening->To Pain', 'Glascow coma scale eye opening->3 To speech', 'Glascow coma scale eye opening->1 No Response', 'Glascow coma scale eye opening->4 Spontaneously', 'Glascow coma scale eye opening->None', 'Glascow coma scale eye opening->To Speech', 'Glascow coma scale eye opening->Spontaneously', 'Glascow coma scale eye opening->2 To pain', 'Glascow coma scale motor response->1 No Response', 'Glascow coma scale motor response->3 Abnorm flexion', 'Glascow coma scale motor response->Abnormal extension', 'Glascow coma scale motor response->No response', 'Glascow coma scale motor response->4 Flex-withdraws', 'Glascow coma scale motor response->Localizes Pain', 'Glascow coma scale motor response->Flex-withdraws', 'Glascow coma scale motor response->Obeys Commands', 'Glascow coma scale motor response->Abnormal Flexion', 'Glascow coma scale motor response->6 Obeys Commands', 'Glascow coma scale motor response->5 Localizes Pain', 'Glascow coma scale motor response->2 Abnorm extensn', 'Glascow coma scale total->11', 'Glascow coma scale total->10', 'Glascow coma scale total->13', 'Glascow coma scale total->12', 'Glascow coma scale total->15', 'Glascow coma scale total->14', 'Glascow coma scale total->3', 'Glascow coma scale total->5', 'Glascow coma scale total->4', 'Glascow coma scale total->7', 'Glascow coma scale total->6', 'Glascow coma scale total->9', 'Glascow coma scale total->8', 'Glascow coma scale verbal response->1 No Response', 'Glascow coma scale verbal response->No Response', 'Glascow coma scale verbal response->Confused', 'Glascow coma scale verbal response->Inappropriate Words', 'Glascow coma scale verbal response->Oriented', 'Glascow coma scale verbal response->No Response-ETT', 'Glascow coma scale verbal response->5 Oriented', 'Glascow coma scale verbal response->Incomprehensible sounds', 'Glascow coma scale verbal response->1.0 ET/Trach', 'Glascow coma scale verbal response->4 Confused', 'Glascow coma scale verbal response->2 Incomp sounds', 'Glascow coma scale verbal response->3 Inapprop words', 'Glucose', 'Heart Rate', 'Height', 'Mean blood pressure', 'Oxygen saturation', 'Respiratory rate', 'Systolic blood pressure', 'Temperature', 'Weight', 'pH', 'mask->Capillary refill rate', 'mask->Diastolic blood pressure', 'mask->Fraction inspired oxygen', 'mask->Glascow coma scale eye opening', 'mask->Glascow coma scale motor response', 'mask->Glascow coma scale total', 'mask->Glascow coma scale verbal response', 'mask->Glucose', 'mask->Heart Rate', 'mask->Height', 'mask->Mean blood pressure', 'mask->Oxygen saturation', 'mask->Respiratory rate', 'mask->Systolic blood pressure', 'mask->Temperature', 'mask->Weight', 'mask->pH'], 'task': 'ihm'}"
   ]
  },
  {
   "cell_type": "code",
   "execution_count": 9,
   "id": "1ee303c9",
   "metadata": {},
   "outputs": [
    {
     "name": "stderr",
     "output_type": "stream",
     "text": [
      "Using TensorFlow backend.\n"
     ]
    },
    {
     "name": "stdout",
     "output_type": "stream",
     "text": [
      "WARNING:tensorflow:From /home/ec2-user/anaconda3/envs/tensorflow_p36/gpu_cuda10.0/lib/python3.6/site-packages/tensorflow_core/__init__.py:1473: The name tf.estimator.inputs is deprecated. Please use tf.compat.v1.estimator.inputs instead.\n",
      "\n",
      "==> not used params in network class: dict_keys(['batch_size', 'beta_1', 'data', 'epochs', 'imputation', 'l1', 'l2', 'load_state', 'lr', 'mode', 'network', 'normalizer_state', 'optimizer', 'output_dir', 'partition', 'prefix', 'save_every', 'size_coef', 'small_part', 'timestep', 'verbose', 'header'])\n",
      "final activation is: sigmoid\n",
      "------------------------------------\n",
      "WARNING:tensorflow:From /home/ec2-user/anaconda3/envs/tensorflow_p36/lib/python3.6/site-packages/keras/backend/tensorflow_backend.py:517: The name tf.placeholder is deprecated. Please use tf.compat.v1.placeholder instead.\n",
      "\n",
      "WARNING:tensorflow:From /home/ec2-user/anaconda3/envs/tensorflow_p36/lib/python3.6/site-packages/keras/backend/tensorflow_backend.py:74: The name tf.get_default_graph is deprecated. Please use tf.compat.v1.get_default_graph instead.\n",
      "\n",
      "WARNING:tensorflow:From /home/ec2-user/anaconda3/envs/tensorflow_p36/lib/python3.6/site-packages/keras/backend/tensorflow_backend.py:4138: The name tf.random_uniform is deprecated. Please use tf.random.uniform instead.\n",
      "\n",
      "WARNING:tensorflow:From /home/ec2-user/anaconda3/envs/tensorflow_p36/lib/python3.6/site-packages/keras/backend/tensorflow_backend.py:133: The name tf.placeholder_with_default is deprecated. Please use tf.compat.v1.placeholder_with_default instead.\n",
      "\n",
      "WARNING:tensorflow:From /home/ec2-user/anaconda3/envs/tensorflow_p36/lib/python3.6/site-packages/keras/backend/tensorflow_backend.py:3445: calling dropout (from tensorflow.python.ops.nn_ops) with keep_prob is deprecated and will be removed in a future version.\n",
      "Instructions for updating:\n",
      "Please use `rate` instead of `keep_prob`. Rate should be set to `rate = 1 - keep_prob`.\n",
      "WARNING:tensorflow:From /home/ec2-user/anaconda3/envs/tensorflow_p36/lib/python3.6/site-packages/keras/backend/tensorflow_backend.py:2974: where (from tensorflow.python.ops.array_ops) is deprecated and will be removed in a future version.\n",
      "Instructions for updating:\n",
      "Use tf.where in 2.0, which has the same broadcast rule as np.where\n"
     ]
    }
   ],
   "source": [
    "network=\"source/lstm.py\"\n",
    "model_module = imp.load_source(os.path.basename(network), network)\n",
    "model = model_module.Network(**arg_dict)"
   ]
  },
  {
   "cell_type": "code",
   "execution_count": 10,
   "id": "52b695dc",
   "metadata": {},
   "outputs": [
    {
     "name": "stdout",
     "output_type": "stream",
     "text": [
      "WARNING:tensorflow:From /home/ec2-user/anaconda3/envs/tensorflow_p36/lib/python3.6/site-packages/keras/optimizers.py:790: The name tf.train.Optimizer is deprecated. Please use tf.compat.v1.train.Optimizer instead.\n",
      "\n",
      "WARNING:tensorflow:From /home/ec2-user/anaconda3/envs/tensorflow_p36/lib/python3.6/site-packages/keras/backend/tensorflow_backend.py:3376: The name tf.log is deprecated. Please use tf.math.log instead.\n",
      "\n"
     ]
    }
   ],
   "source": [
    "optimizer_config = {'class_name': 'adam', 'config': {'lr': 0.001, 'beta_1': 0.9}}\n",
    "\n",
    "loss_function = 'binary_crossentropy'\n",
    "model.compile(optimizer=optimizer_config,\n",
    "              loss=loss_function)\n"
   ]
  },
  {
   "cell_type": "code",
   "execution_count": 11,
   "id": "4270e069",
   "metadata": {},
   "outputs": [
    {
     "name": "stdout",
     "output_type": "stream",
     "text": [
      "WARNING:tensorflow:From /home/ec2-user/anaconda3/envs/tensorflow_p36/lib/python3.6/site-packages/keras/backend/tensorflow_backend.py:174: The name tf.get_default_session is deprecated. Please use tf.compat.v1.get_default_session instead.\n",
      "\n",
      "WARNING:tensorflow:From /home/ec2-user/anaconda3/envs/tensorflow_p36/lib/python3.6/site-packages/keras/backend/tensorflow_backend.py:181: The name tf.ConfigProto is deprecated. Please use tf.compat.v1.ConfigProto instead.\n",
      "\n",
      "WARNING:tensorflow:From /home/ec2-user/anaconda3/envs/tensorflow_p36/lib/python3.6/site-packages/keras/backend/tensorflow_backend.py:186: The name tf.Session is deprecated. Please use tf.compat.v1.Session instead.\n",
      "\n",
      "WARNING:tensorflow:From /home/ec2-user/anaconda3/envs/tensorflow_p36/lib/python3.6/site-packages/keras/backend/tensorflow_backend.py:190: The name tf.global_variables is deprecated. Please use tf.compat.v1.global_variables instead.\n",
      "\n",
      "WARNING:tensorflow:From /home/ec2-user/anaconda3/envs/tensorflow_p36/lib/python3.6/site-packages/keras/backend/tensorflow_backend.py:199: The name tf.is_variable_initialized is deprecated. Please use tf.compat.v1.is_variable_initialized instead.\n",
      "\n",
      "WARNING:tensorflow:From /home/ec2-user/anaconda3/envs/tensorflow_p36/lib/python3.6/site-packages/keras/backend/tensorflow_backend.py:206: The name tf.variables_initializer is deprecated. Please use tf.compat.v1.variables_initializer instead.\n",
      "\n",
      "_________________________________________________________________\n",
      "Layer (type)                 Output Shape              Param #   \n",
      "=================================================================\n",
      "X (InputLayer)               (None, None, 76)          0         \n",
      "_________________________________________________________________\n",
      "masking_1 (Masking)          (None, None, 76)          0         \n",
      "_________________________________________________________________\n",
      "lstm_1 (LSTM)                (None, 128)               104960    \n",
      "_________________________________________________________________\n",
      "dropout_1 (Dropout)          (None, 128)               0         \n",
      "_________________________________________________________________\n",
      "dense_1 (Dense)              (None, 1)                 129       \n",
      "=================================================================\n",
      "Total params: 105,089\n",
      "Trainable params: 105,089\n",
      "Non-trainable params: 0\n",
      "_________________________________________________________________\n"
     ]
    }
   ],
   "source": [
    "model.load_weights(\"utils/model_weight21.state\")\n",
    "model.summary()"
   ]
  },
  {
   "cell_type": "code",
   "execution_count": null,
   "id": "21ff4fc1",
   "metadata": {},
   "outputs": [
    {
     "name": "stdout",
     "output_type": "stream",
     "text": [
      "\tdone 0/200\r",
      "chunk_size is :  1596\n"
     ]
    }
   ],
   "source": [
    "names = []\n",
    "ts = []\n",
    "labels = []\n",
    "predictions = []\n",
    "preds=[]\n",
    "for i in range(test_data_gen.steps):\n",
    "            print(\"\\tdone {}/{}\".format(i, test_data_gen.steps), end='\\r')\n",
    "\n",
    "            ret = test_data_gen.next(return_y_true=True)\n",
    "            (x, y_processed, y) = ret[\"data\"]\n",
    "            cur_names = np.array(ret[\"names\"]).repeat(x[0].shape[1], axis=-1)\n",
    "            cur_ts = ret[\"ts\"]\n",
    "            for single_ts in list(cur_ts):\n",
    "                ts = ts +[single_ts] \n",
    "\n",
    "            pred = model.predict_on_batch(x)\n",
    "            pred = np.array(pred)[:, 0]\n",
    "            print(pred)\n",
    "            \n",
    "            \n",
    "            # predictions\n",
    "            predictions=predictions+list(pred)\n",
    "            \n",
    "            #true values\n",
    "            labels += list(y)\n",
    "            names += list(cur_names)\n",
    "            ts += list(cur_ts)"
   ]
  },
  {
   "cell_type": "code",
   "execution_count": null,
   "id": "56b65b9c",
   "metadata": {},
   "outputs": [],
   "source": [
    "metrics.print_metrics_binary(labels, predictions)"
   ]
  }
 ],
 "metadata": {
  "kernelspec": {
   "display_name": "conda_tensorflow_p36",
   "language": "python",
   "name": "conda_tensorflow_p36"
  },
  "language_info": {
   "codemirror_mode": {
    "name": "ipython",
    "version": 3
   },
   "file_extension": ".py",
   "mimetype": "text/x-python",
   "name": "python",
   "nbconvert_exporter": "python",
   "pygments_lexer": "ipython3",
   "version": "3.6.13"
  }
 },
 "nbformat": 4,
 "nbformat_minor": 5
}
