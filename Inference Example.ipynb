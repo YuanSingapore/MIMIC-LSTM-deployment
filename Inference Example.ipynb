{
 "cells": [
  {
   "cell_type": "markdown",
   "id": "428afa15",
   "metadata": {},
   "source": [
    "## Import all the libraries"
   ]
  },
  {
   "cell_type": "code",
   "execution_count": 1,
   "id": "502dfa25",
   "metadata": {},
   "outputs": [],
   "source": [
    "import os\n",
    "import numpy as np\n",
    "from utils.readers import VentilatorReader\n",
    "\n",
    "from utils.preprocessing import Discretizer, Normalizer"
   ]
  },
  {
   "cell_type": "code",
   "execution_count": 2,
   "id": "4031993e",
   "metadata": {},
   "outputs": [],
   "source": [
    "from utils import utils\n",
    "import imp\n",
    "import os"
   ]
  },
  {
   "cell_type": "code",
   "execution_count": 3,
   "id": "0499fdeb",
   "metadata": {},
   "outputs": [
    {
     "name": "stdout",
     "output_type": "stream",
     "text": [
      "listfile is:::: data/test2_listfile.csv\n"
     ]
    }
   ],
   "source": [
    "data_path='data'\n",
    "test_reader = VentilatorReader(dataset_dir=os.path.join(data_path, 'test_sub'),\n",
    "                          listfile=os.path.join(data_path, 'test2_listfile.csv'))"
   ]
  },
  {
   "cell_type": "code",
   "execution_count": 4,
   "id": "8ce48992",
   "metadata": {},
   "outputs": [],
   "source": [
    "## normalizer\n",
    "cont_channels=[2, 3, 49, 50, 51, 52, 53, 54, 55, 56, 57, 58]\n",
    "normalizer = Normalizer(fields=cont_channels) \n",
    "normalizer_state = 'utils/los_ts1.0.input_str:previous.start_time:zero.n5e4.normalizer'\n",
    "#normalizer_state = os.path.join(os.path.dirname(__file__), normalizer_state)\n",
    "normalizer.load_params(normalizer_state)"
   ]
  },
  {
   "cell_type": "code",
   "execution_count": 5,
   "id": "0973d0c4",
   "metadata": {},
   "outputs": [
    {
     "name": "stdout",
     "output_type": "stream",
     "text": [
      "config_path~~~~~~~in preprocessing.py /home/ec2-user/SageMaker/Deployment/MIMIC-LSTM-deployment/utils/discretizer_config.json\n"
     ]
    }
   ],
   "source": [
    "## discretizer\n",
    "discretizer = Discretizer(timestep=1.0,\n",
    "                          store_masks=True,\n",
    "                          impute_strategy='previous',\n",
    "                          start_time='zero')"
   ]
  },
  {
   "cell_type": "code",
   "execution_count": 6,
   "id": "da5b4c01",
   "metadata": {},
   "outputs": [],
   "source": [
    "test_data_gen = utils.BatchGen(reader=test_reader,\n",
    "                           discretizer=discretizer,\n",
    "                           normalizer=normalizer,\n",
    "                           partition='none',\n",
    "                           batch_size=8,\n",
    "                           steps=None,  \n",
    "                           shuffle=False,\n",
    "                           return_names=True)"
   ]
  },
  {
   "cell_type": "markdown",
   "id": "1e6a68d6",
   "metadata": {},
   "source": [
    "## Prepare Model"
   ]
  },
  {
   "cell_type": "code",
   "execution_count": 7,
   "id": "e178c260",
   "metadata": {},
   "outputs": [],
   "source": [
    "#arg_dict={'batch_norm': False, 'batch_size': 8, 'beta_1': 0.9, 'data': '/home/ec2-user/SageMaker/mimic3-benchmarks/data/ventilator', 'deep_supervision': False, 'depth': 1, 'dim': 128, 'dropout': 0.3, 'epochs': 40, 'imputation': 'previous', 'l1': 0, 'l2': 0, 'load_state': '', 'lr': 0.001, 'mode': 'test', 'network': 'source/lstm.py', 'normalizer_state': None, 'optimizer': 'adam', 'output_dir': 'output', 'partition': 'none', 'prefix': '', 'rec_dropout': 0.0, 'save_every': 1, 'size_coef': 4.0, 'small_part': False, 'timestep': 1.0, 'verbose': 2, 'header': ['Capillary refill rate->0.0', 'Capillary refill rate->1.0', 'Diastolic blood pressure', 'Fraction inspired oxygen', 'Glascow coma scale eye opening->To Pain', 'Glascow coma scale eye opening->3 To speech', 'Glascow coma scale eye opening->1 No Response', 'Glascow coma scale eye opening->4 Spontaneously', 'Glascow coma scale eye opening->None', 'Glascow coma scale eye opening->To Speech', 'Glascow coma scale eye opening->Spontaneously', 'Glascow coma scale eye opening->2 To pain', 'Glascow coma scale motor response->1 No Response', 'Glascow coma scale motor response->3 Abnorm flexion', 'Glascow coma scale motor response->Abnormal extension', 'Glascow coma scale motor response->No response', 'Glascow coma scale motor response->4 Flex-withdraws', 'Glascow coma scale motor response->Localizes Pain', 'Glascow coma scale motor response->Flex-withdraws', 'Glascow coma scale motor response->Obeys Commands', 'Glascow coma scale motor response->Abnormal Flexion', 'Glascow coma scale motor response->6 Obeys Commands', 'Glascow coma scale motor response->5 Localizes Pain', 'Glascow coma scale motor response->2 Abnorm extensn', 'Glascow coma scale total->11', 'Glascow coma scale total->10', 'Glascow coma scale total->13', 'Glascow coma scale total->12', 'Glascow coma scale total->15', 'Glascow coma scale total->14', 'Glascow coma scale total->3', 'Glascow coma scale total->5', 'Glascow coma scale total->4', 'Glascow coma scale total->7', 'Glascow coma scale total->6', 'Glascow coma scale total->9', 'Glascow coma scale total->8', 'Glascow coma scale verbal response->1 No Response', 'Glascow coma scale verbal response->No Response', 'Glascow coma scale verbal response->Confused', 'Glascow coma scale verbal response->Inappropriate Words', 'Glascow coma scale verbal response->Oriented', 'Glascow coma scale verbal response->No Response-ETT', 'Glascow coma scale verbal response->5 Oriented', 'Glascow coma scale verbal response->Incomprehensible sounds', 'Glascow coma scale verbal response->1.0 ET/Trach', 'Glascow coma scale verbal response->4 Confused', 'Glascow coma scale verbal response->2 Incomp sounds', 'Glascow coma scale verbal response->3 Inapprop words', 'Glucose', 'Heart Rate', 'Height', 'Mean blood pressure', 'Oxygen saturation', 'Respiratory rate', 'Systolic blood pressure', 'Temperature', 'Weight', 'pH', 'mask->Capillary refill rate', 'mask->Diastolic blood pressure', 'mask->Fraction inspired oxygen', 'mask->Glascow coma scale eye opening', 'mask->Glascow coma scale motor response', 'mask->Glascow coma scale total', 'mask->Glascow coma scale verbal response', 'mask->Glucose', 'mask->Heart Rate', 'mask->Height', 'mask->Mean blood pressure', 'mask->Oxygen saturation', 'mask->Respiratory rate', 'mask->Systolic blood pressure', 'mask->Temperature', 'mask->Weight', 'mask->pH'], 'task': 'ihm', 'num_classes': 1}"
   ]
  },
  {
   "cell_type": "code",
   "execution_count": 8,
   "id": "ea4d619b",
   "metadata": {},
   "outputs": [],
   "source": [
    "arg_dict= {'batch_norm': False, 'batch_size': 8, 'beta_1': 0.9, 'data': '/home/ec2-user/SageMaker/mimic3-benchmarks/data/ventilator', 'deep_supervision': False, 'depth': 1, 'dim': 128, 'dropout': 0.3, 'epochs': 40, 'imputation': 'previous', 'l1': 0, 'l2': 0, 'load_state': 'mimic3models/ventilator/keras_states/k_lstm.n128.d0.3.dep1.bs8.ts1.0.partition=none.chunk22.test0.10837857292406261.state', 'lr': 0.001, 'mode': 'test', 'network': 'mimic3models/keras_models/lstm.py', 'normalizer_state': None, 'optimizer': 'adam', 'output_dir': 'mimic3models/ventilator/test', 'partition': 'none', 'prefix': '', 'rec_dropout': 0.0, 'save_every': 1, 'size_coef': 4.0, 'small_part': False, 'timestep': 1.0, 'verbose': 2, 'header': ['Capillary refill rate->0.0', 'Capillary refill rate->1.0', 'Diastolic blood pressure', 'Fraction inspired oxygen', 'Glascow coma scale eye opening->To Pain', 'Glascow coma scale eye opening->3 To speech', 'Glascow coma scale eye opening->1 No Response', 'Glascow coma scale eye opening->4 Spontaneously', 'Glascow coma scale eye opening->None', 'Glascow coma scale eye opening->To Speech', 'Glascow coma scale eye opening->Spontaneously', 'Glascow coma scale eye opening->2 To pain', 'Glascow coma scale motor response->1 No Response', 'Glascow coma scale motor response->3 Abnorm flexion', 'Glascow coma scale motor response->Abnormal extension', 'Glascow coma scale motor response->No response', 'Glascow coma scale motor response->4 Flex-withdraws', 'Glascow coma scale motor response->Localizes Pain', 'Glascow coma scale motor response->Flex-withdraws', 'Glascow coma scale motor response->Obeys Commands', 'Glascow coma scale motor response->Abnormal Flexion', 'Glascow coma scale motor response->6 Obeys Commands', 'Glascow coma scale motor response->5 Localizes Pain', 'Glascow coma scale motor response->2 Abnorm extensn', 'Glascow coma scale total->11', 'Glascow coma scale total->10', 'Glascow coma scale total->13', 'Glascow coma scale total->12', 'Glascow coma scale total->15', 'Glascow coma scale total->14', 'Glascow coma scale total->3', 'Glascow coma scale total->5', 'Glascow coma scale total->4', 'Glascow coma scale total->7', 'Glascow coma scale total->6', 'Glascow coma scale total->9', 'Glascow coma scale total->8', 'Glascow coma scale verbal response->1 No Response', 'Glascow coma scale verbal response->No Response', 'Glascow coma scale verbal response->Confused', 'Glascow coma scale verbal response->Inappropriate Words', 'Glascow coma scale verbal response->Oriented', 'Glascow coma scale verbal response->No Response-ETT', 'Glascow coma scale verbal response->5 Oriented', 'Glascow coma scale verbal response->Incomprehensible sounds', 'Glascow coma scale verbal response->1.0 ET/Trach', 'Glascow coma scale verbal response->4 Confused', 'Glascow coma scale verbal response->2 Incomp sounds', 'Glascow coma scale verbal response->3 Inapprop words', 'Glucose', 'Heart Rate', 'Height', 'Mean blood pressure', 'Oxygen saturation', 'Respiratory rate', 'Systolic blood pressure', 'Temperature', 'Weight', 'pH', 'mask->Capillary refill rate', 'mask->Diastolic blood pressure', 'mask->Fraction inspired oxygen', 'mask->Glascow coma scale eye opening', 'mask->Glascow coma scale motor response', 'mask->Glascow coma scale total', 'mask->Glascow coma scale verbal response', 'mask->Glucose', 'mask->Heart Rate', 'mask->Height', 'mask->Mean blood pressure', 'mask->Oxygen saturation', 'mask->Respiratory rate', 'mask->Systolic blood pressure', 'mask->Temperature', 'mask->Weight', 'mask->pH'], 'task': 'ihm'}"
   ]
  },
  {
   "cell_type": "code",
   "execution_count": 9,
   "id": "d78ee6f7",
   "metadata": {},
   "outputs": [
    {
     "name": "stderr",
     "output_type": "stream",
     "text": [
      "Using TensorFlow backend.\n"
     ]
    },
    {
     "name": "stdout",
     "output_type": "stream",
     "text": [
      "WARNING:tensorflow:From /home/ec2-user/anaconda3/envs/tensorflow_p36/gpu_cuda10.0/lib/python3.6/site-packages/tensorflow_core/__init__.py:1473: The name tf.estimator.inputs is deprecated. Please use tf.compat.v1.estimator.inputs instead.\n",
      "\n",
      "==> not used params in network class: dict_keys(['batch_size', 'beta_1', 'data', 'epochs', 'imputation', 'l1', 'l2', 'load_state', 'lr', 'mode', 'network', 'normalizer_state', 'optimizer', 'output_dir', 'partition', 'prefix', 'save_every', 'size_coef', 'small_part', 'timestep', 'verbose', 'header'])\n",
      "final activation is: sigmoid\n",
      "------------------------------------\n",
      "WARNING:tensorflow:From /home/ec2-user/anaconda3/envs/tensorflow_p36/lib/python3.6/site-packages/keras/backend/tensorflow_backend.py:517: The name tf.placeholder is deprecated. Please use tf.compat.v1.placeholder instead.\n",
      "\n",
      "WARNING:tensorflow:From /home/ec2-user/anaconda3/envs/tensorflow_p36/lib/python3.6/site-packages/keras/backend/tensorflow_backend.py:74: The name tf.get_default_graph is deprecated. Please use tf.compat.v1.get_default_graph instead.\n",
      "\n",
      "WARNING:tensorflow:From /home/ec2-user/anaconda3/envs/tensorflow_p36/lib/python3.6/site-packages/keras/backend/tensorflow_backend.py:4138: The name tf.random_uniform is deprecated. Please use tf.random.uniform instead.\n",
      "\n",
      "WARNING:tensorflow:From /home/ec2-user/anaconda3/envs/tensorflow_p36/lib/python3.6/site-packages/keras/backend/tensorflow_backend.py:133: The name tf.placeholder_with_default is deprecated. Please use tf.compat.v1.placeholder_with_default instead.\n",
      "\n",
      "WARNING:tensorflow:From /home/ec2-user/anaconda3/envs/tensorflow_p36/lib/python3.6/site-packages/keras/backend/tensorflow_backend.py:3445: calling dropout (from tensorflow.python.ops.nn_ops) with keep_prob is deprecated and will be removed in a future version.\n",
      "Instructions for updating:\n",
      "Please use `rate` instead of `keep_prob`. Rate should be set to `rate = 1 - keep_prob`.\n",
      "WARNING:tensorflow:From /home/ec2-user/anaconda3/envs/tensorflow_p36/lib/python3.6/site-packages/keras/backend/tensorflow_backend.py:2974: where (from tensorflow.python.ops.array_ops) is deprecated and will be removed in a future version.\n",
      "Instructions for updating:\n",
      "Use tf.where in 2.0, which has the same broadcast rule as np.where\n"
     ]
    }
   ],
   "source": [
    "network=\"source/lstm.py\"\n",
    "model_module = imp.load_source(os.path.basename(network), network)\n",
    "model = model_module.Network(**arg_dict)"
   ]
  },
  {
   "cell_type": "code",
   "execution_count": 10,
   "id": "d33f3642",
   "metadata": {},
   "outputs": [
    {
     "name": "stdout",
     "output_type": "stream",
     "text": [
      "WARNING:tensorflow:From /home/ec2-user/anaconda3/envs/tensorflow_p36/lib/python3.6/site-packages/keras/optimizers.py:790: The name tf.train.Optimizer is deprecated. Please use tf.compat.v1.train.Optimizer instead.\n",
      "\n",
      "WARNING:tensorflow:From /home/ec2-user/anaconda3/envs/tensorflow_p36/lib/python3.6/site-packages/keras/backend/tensorflow_backend.py:3376: The name tf.log is deprecated. Please use tf.math.log instead.\n",
      "\n"
     ]
    }
   ],
   "source": [
    "optimizer_config = {'class_name': 'adam', 'config': {'lr': 0.001, 'beta_1': 0.9}}\n",
    "\n",
    "loss_function = 'binary_crossentropy'\n",
    "model.compile(optimizer=optimizer_config,\n",
    "              loss=loss_function)\n"
   ]
  },
  {
   "cell_type": "code",
   "execution_count": 11,
   "id": "e0697a6c",
   "metadata": {},
   "outputs": [
    {
     "name": "stdout",
     "output_type": "stream",
     "text": [
      "WARNING:tensorflow:From /home/ec2-user/anaconda3/envs/tensorflow_p36/lib/python3.6/site-packages/keras/backend/tensorflow_backend.py:174: The name tf.get_default_session is deprecated. Please use tf.compat.v1.get_default_session instead.\n",
      "\n",
      "WARNING:tensorflow:From /home/ec2-user/anaconda3/envs/tensorflow_p36/lib/python3.6/site-packages/keras/backend/tensorflow_backend.py:181: The name tf.ConfigProto is deprecated. Please use tf.compat.v1.ConfigProto instead.\n",
      "\n",
      "WARNING:tensorflow:From /home/ec2-user/anaconda3/envs/tensorflow_p36/lib/python3.6/site-packages/keras/backend/tensorflow_backend.py:186: The name tf.Session is deprecated. Please use tf.compat.v1.Session instead.\n",
      "\n",
      "WARNING:tensorflow:From /home/ec2-user/anaconda3/envs/tensorflow_p36/lib/python3.6/site-packages/keras/backend/tensorflow_backend.py:190: The name tf.global_variables is deprecated. Please use tf.compat.v1.global_variables instead.\n",
      "\n",
      "WARNING:tensorflow:From /home/ec2-user/anaconda3/envs/tensorflow_p36/lib/python3.6/site-packages/keras/backend/tensorflow_backend.py:199: The name tf.is_variable_initialized is deprecated. Please use tf.compat.v1.is_variable_initialized instead.\n",
      "\n",
      "WARNING:tensorflow:From /home/ec2-user/anaconda3/envs/tensorflow_p36/lib/python3.6/site-packages/keras/backend/tensorflow_backend.py:206: The name tf.variables_initializer is deprecated. Please use tf.compat.v1.variables_initializer instead.\n",
      "\n",
      "_________________________________________________________________\n",
      "Layer (type)                 Output Shape              Param #   \n",
      "=================================================================\n",
      "X (InputLayer)               (None, None, 76)          0         \n",
      "_________________________________________________________________\n",
      "masking_1 (Masking)          (None, None, 76)          0         \n",
      "_________________________________________________________________\n",
      "lstm_1 (LSTM)                (None, 128)               104960    \n",
      "_________________________________________________________________\n",
      "dropout_1 (Dropout)          (None, 128)               0         \n",
      "_________________________________________________________________\n",
      "dense_1 (Dense)              (None, 1)                 129       \n",
      "=================================================================\n",
      "Total params: 105,089\n",
      "Trainable params: 105,089\n",
      "Non-trainable params: 0\n",
      "_________________________________________________________________\n"
     ]
    }
   ],
   "source": [
    "model.load_weights(\"utils/model_weight21.state\")\n",
    "model.summary()"
   ]
  },
  {
   "cell_type": "code",
   "execution_count": 12,
   "id": "cd01a060",
   "metadata": {},
   "outputs": [
    {
     "name": "stdout",
     "output_type": "stream",
     "text": [
      "chunk_size is :  705\n",
      "[0.00600606 0.00817013 0.00688976 0.00624523 0.00794634 0.00965792\n",
      " 0.00717866 0.00540221]\n",
      "[0.00493693 0.00745231 0.00482902 0.00311536 0.00261813 0.00299001\n",
      " 0.00227815 0.00665939]\n",
      "[0.00875103 0.01052675 0.00791198 0.00642103 0.00963819 0.01125705\n",
      " 0.00831673 0.0067246 ]\n",
      "[0.00781432 0.00976774 0.00690746 0.00603148 0.00862679 0.00924659\n",
      " 0.00704026 0.00664419]\n",
      "[0.00908512 0.00684264 0.00652882 0.00877509 0.00792596 0.00721854\n",
      " 0.00626561 0.00786936]\n",
      "[0.00979581 0.0085955  0.00792912 0.00854588 0.00970528 0.0084407\n",
      " 0.00580403 0.00628188]\n",
      "[0.00249511 0.00376832 0.00343624 0.00227505 0.0021418  0.00215513\n",
      " 0.00237289 0.00277075]\n",
      "[0.00369757 0.00735068 0.00582308 0.00348312 0.0037719  0.00713968\n",
      " 0.00400996 0.00910908]\n",
      "[0.00374222 0.00483701 0.00778893 0.00122064 0.00107777 0.00340268\n",
      " 0.00534764 0.00792685]\n",
      "[0.0025025  0.00415388 0.00312179 0.00237444 0.00250265 0.00244156\n",
      " 0.00252554 0.00272703]\n",
      "[0.00269714 0.00318879 0.00342503 0.00288421 0.00250518 0.00227734\n",
      " 0.00286075 0.00272745]\n",
      "[0.00773728 0.01072711 0.00770208 0.00606447 0.00867927 0.0106332\n",
      " 0.00814039 0.00594699]\n",
      "[0.00916493 0.00852054 0.00707862 0.00829715 0.00922403 0.00678962\n",
      " 0.00562057 0.00744697]\n",
      "[0.00274426 0.00480103 0.00262806 0.00446889 0.00204331 0.00163081\n",
      " 0.00188306 0.0023348 ]\n",
      "[0.00846112 0.00680584 0.00510341 0.0067659  0.00851792 0.00703385\n",
      " 0.00499824 0.00626284]\n",
      "[0.00282523 0.0037514  0.00296232 0.00343829 0.00355393 0.00461623\n",
      " 0.00558409 0.00365987]\n",
      "[0.00746289 0.00903669 0.00721017 0.00660434 0.00818565 0.00994757\n",
      " 0.00772831 0.00649369]\n",
      "[0.00654796 0.00541848 0.00690317 0.00870055 0.0014241  0.00119776\n",
      " 0.00089458 0.00083941]\n",
      "[0.00805563 0.00569621 0.00433695 0.00651434 0.00862131 0.0081262\n",
      " 0.00581029 0.00738832]\n",
      "[0.00407299 0.00193149 0.00291717 0.00366694 0.00408918 0.00291649\n",
      " 0.00274777 0.00426936]\n",
      "[0.00220963 0.00433618 0.00253004 0.00375581 0.00409111 0.00271904\n",
      " 0.00274214 0.00429744]\n",
      "[0.00737607 0.00905848 0.00604573 0.00481379 0.0061343  0.0084632\n",
      " 0.0072138  0.00576812]\n",
      "[0.00968575 0.0089168  0.00792038 0.00570086 0.00399488 0.00440487\n",
      " 0.00505736 0.00716054]\n",
      "[0.00466004 0.00559857 0.0055137  0.00416756 0.00435585 0.00800821\n",
      " 0.00877342 0.00491682]\n",
      "[0.0038453  0.00405338 0.00252745 0.0018127  0.00208604 0.00251719\n",
      " 0.00421423 0.00269404]\n",
      "[0.00644562 0.00510082 0.00397068 0.00567028 0.00466874 0.00817832\n",
      " 0.00456783 0.00766581]\n",
      "[0.00219548 0.00285757 0.00231317 0.00217843 0.00254509 0.00252461\n",
      " 0.00229585 0.00325942]\n",
      "[0.00229156 0.00316745 0.00201258 0.00283232 0.00314653 0.00318286\n",
      " 0.00322372 0.00357458]\n",
      "[0.00809199 0.00743735 0.00694239 0.00699925 0.0074642  0.00729588\n",
      " 0.00731236 0.00280669]\n",
      "[0.00669566 0.00399294 0.00581095 0.00349537 0.00392532 0.00821787\n",
      " 0.0106875  0.00390214]\n",
      "[0.00834906 0.00933069 0.00609255 0.00735259 0.00886136 0.00765747\n",
      " 0.00521368 0.00641388]\n",
      "[0.00784737 0.00340587 0.00305918 0.00550368 0.00784254 0.00318524\n",
      " 0.01172358 0.00320378]\n",
      "[0.0034529  0.00217298 0.00244322 0.00249612 0.00322783 0.00418368\n",
      " 0.00264055 0.00263473]\n",
      "[0.00764138 0.00585145 0.00561106 0.00681916 0.00770649 0.00714588\n",
      " 0.00511423 0.0065144 ]\n",
      "[0.00276485 0.00247532 0.00210714 0.00251719 0.00302976 0.00270906\n",
      " 0.00293431 0.00238851]\n",
      "[0.00257003 0.00239491 0.00239161 0.00228769 0.00281417 0.00346369\n",
      " 0.00213689 0.00336424]\n",
      "[0.00647902 0.00317705 0.00770849 0.00298417 0.00751534 0.00296488\n",
      " 0.00310478 0.00882661]\n",
      "[0.00348791 0.00725463 0.00572413 0.00322849 0.00748208 0.00361922\n",
      " 0.00376311 0.00958854]\n",
      "[0.00845915 0.0077363  0.00544658 0.00662377 0.00837928 0.00584313\n",
      " 0.0053066  0.00586471]\n",
      "[0.002527   0.00243965 0.00252607 0.00388253 0.00277022 0.00224108\n",
      " 0.00268206 0.00261572]\n",
      "[0.00244781 0.00314975 0.00266898 0.00277406 0.00274926 0.00201371\n",
      " 0.00348189 0.00246853]\n",
      "[0.00224295 0.00334427 0.00348592 0.00239709 0.00228065 0.00243741\n",
      " 0.00302833 0.00252628]\n",
      "[0.00837114 0.00960743 0.00745338 0.00588962 0.00792229 0.00950709\n",
      " 0.00887865 0.00542906]\n",
      "[0.00260168 0.0047878  0.00328276 0.00291005 0.00284171 0.00352299\n",
      " 0.00305372 0.00318688]\n",
      "[0.00733912 0.01136574 0.00805011 0.0055173  0.00747737 0.0100939\n",
      " 0.00777194 0.00564826]\n",
      "[0.00697434 0.00888357 0.00718427 0.00576597 0.00800702 0.01011515\n",
      " 0.00635391 0.00486311]\n",
      "[0.00917116 0.00724426 0.00572422 0.00735795 0.0084517  0.00776246\n",
      " 0.00524217 0.00600329]\n",
      "[0.00503322 0.00218454 0.00260743 0.00420579 0.00252724 0.00305271\n",
      " 0.00414801 0.00230393]\n",
      "[0.00228009 0.0023402  0.00250837 0.00202513 0.0022127  0.00225878\n",
      " 0.00240648 0.00238997]\n",
      "[0.00804156 0.00942644 0.00728598 0.00633204 0.00883698 0.00936309\n",
      " 0.00743234 0.00579304]\n",
      "[0.00740394 0.00571764 0.00502488 0.00506231 0.00566542 0.00652945\n",
      " 0.00797006 0.00838336]\n",
      "[0.00843725 0.00651592 0.00571045 0.00780183 0.00864625 0.00567335\n",
      " 0.00486234 0.00660545]\n",
      "[0.0043411  0.00493526 0.00507212 0.00394642 0.00330192 0.00816026\n",
      " 0.0022845  0.00346315]\n",
      "[0.00262937 0.00310445 0.00206083 0.00260901 0.00349057 0.00232419\n",
      " 0.00330451 0.00269857]\n",
      "[0.00467235 0.00251821 0.00293416 0.00309539 0.00263301 0.00528607\n",
      " 0.00248581 0.0052146 ]\n",
      "[0.00406316 0.00778413 0.00367761 0.00566557 0.00369564 0.00762323\n",
      " 0.00391567 0.00843334]\n",
      "[0.00783575 0.00578588 0.00564328 0.00651115 0.00728977 0.00564715\n",
      " 0.00489989 0.00688666]\n",
      "[0.00831634 0.00711107 0.00535995 0.00518826 0.00633579 0.00613934\n",
      " 0.00532809 0.0066568 ]\n",
      "[0.00245428 0.00377673 0.00280803 0.00408372 0.00297111 0.00581998\n",
      " 0.00302333 0.00604087]\n",
      "[0.00822529 0.0031817  0.00694376 0.00313151 0.00343174 0.00833711\n",
      " 0.00920203 0.00329721]\n",
      "[0.00379348 0.00567746 0.00354341 0.0062781  0.00781196 0.00307935\n",
      " 0.01066393 0.00382572]\n",
      "[0.00586465 0.00317729 0.00517267 0.003043   0.00352055 0.00770253\n",
      " 0.00332612 0.01060387]\n",
      "[0.00745538 0.00638884 0.00641531 0.00858855 0.00880197 0.0064247\n",
      " 0.00542551 0.00685719]\n",
      "[0.00250256 0.00426349 0.00242832 0.00216877 0.00209406 0.00439027\n",
      " 0.00230813 0.00262833]\n",
      "[0.00434992 0.00758719 0.01002309 0.00345141 0.01086089 0.01053679\n",
      " 0.00885618 0.00611228]\n",
      "[0.0022893  0.0042865  0.00242794 0.00337079 0.00341606 0.0026488\n",
      " 0.00355321 0.0026308 ]\n",
      "[0.00555402 0.00343657 0.00302815 0.00454062 0.00313252 0.00659683\n",
      " 0.00334194 0.00879398]\n",
      "[0.00275341 0.00282726 0.00211179 0.00220293 0.00446776 0.00233644\n",
      " 0.00254232 0.00373501]\n",
      "[0.00701639 0.00355959 0.00363359 0.00608894 0.00747091 0.00331116\n",
      " 0.00369889 0.00901616]\n",
      "[0.00940394 0.00745794 0.00528345 0.00702485 0.00924894 0.00718355\n",
      " 0.00505227 0.00663233]\n",
      "[0.00699162 0.00569469 0.0048697  0.00595796 0.00707716 0.0048171\n",
      " 0.00492084 0.00695816]\n",
      "[0.00984395 0.00399533 0.00771484 0.0037784  0.00832886 0.0043028\n",
      " 0.0090535  0.00442946]\n",
      "[0.00928208 0.00835997 0.00709993 0.0087145  0.00932565 0.00754017\n",
      " 0.00624683 0.00785342]\n",
      "[0.00947413 0.00609607 0.00643954 0.00878337 0.01104194 0.00947669\n",
      " 0.00529838 0.00656843]\n",
      "[0.00298661 0.00970072 0.00629592 0.00313416 0.00665182 0.00300297\n",
      " 0.00791427 0.00313786]\n",
      "[0.00370249 0.00275791 0.00301853 0.00377637 0.00296304 0.00378746\n",
      " 0.00384033 0.00321177]\n",
      "[0.00674441 0.00500798 0.004796   0.0070771  0.00913367 0.00681481\n",
      " 0.00545979 0.00765312]\n",
      "[0.00816417 0.00641909 0.00573486 0.00914812 0.00932142 0.00803715\n",
      " 0.00558877 0.00719762]\n",
      "[0.00723386 0.00772488 0.00877914 0.01078734 0.01110199 0.00770915\n",
      " 0.00537461 0.00695142]\n",
      "[0.00762883 0.0039255  0.0059287  0.00383881 0.00317571 0.00843534\n",
      " 0.003555   0.00998122]\n",
      "[0.00251058 0.00444898 0.00552633 0.00785953 0.00925854 0.00660533\n",
      " 0.00530732 0.00755069]\n",
      "[0.00255367 0.00254613 0.00479341 0.00234985 0.00250244 0.0026052\n",
      " 0.00244862 0.00236064]\n",
      "[0.00358787 0.00572109 0.00349325 0.00460836 0.00662869 0.00368437\n",
      " 0.00823    0.00386047]\n",
      "[0.00418708 0.00226703 0.00268361 0.00406832 0.00388417 0.00277901\n",
      " 0.00291654 0.00433683]\n",
      "[0.00356621 0.00735837 0.00557283 0.00332093 0.00786629 0.00350192\n",
      " 0.01054388 0.00320694]\n",
      "[0.00959274 0.00705388 0.00572959 0.00699478 0.00815082 0.00675949\n",
      " 0.00591949 0.0072957 ]\n",
      "[0.00359076 0.00346941 0.00281078 0.00237587 0.00255221 0.00334123\n",
      " 0.00264749 0.00340423]\n",
      "[0.0031949  0.00646636 0.00577193 0.0027408  0.00295547 0.006807\n",
      " 0.00627479 0.00294495]\n",
      "[0.00535788]\n"
     ]
    }
   ],
   "source": [
    "names = []\n",
    "ts = []\n",
    "labels = []\n",
    "predictions = []\n",
    "preds=[]\n",
    "for i in range(test_data_gen.steps):\n",
    "            print(\"\\tdone {}/{}\".format(i, test_data_gen.steps), end='\\r')\n",
    "\n",
    "            ret = test_data_gen.next(return_y_true=True)\n",
    "            (x, y_processed, y) = ret[\"data\"]\n",
    "            cur_names = np.array(ret[\"names\"]).repeat(x[0].shape[1], axis=-1)\n",
    "            cur_ts = ret[\"ts\"]\n",
    "            for single_ts in list(cur_ts):\n",
    "                ts = ts +[single_ts] \n",
    "\n",
    "            pred = model.predict_on_batch(x)\n",
    "            pred = np.array(pred)[:, 0]\n",
    "            print(pred)\n",
    "            \n",
    "            \n",
    "            # predictions\n",
    "            predictions=predictions+list(pred)\n",
    "            \n",
    "            #true values\n",
    "            labels += list(y)\n",
    "            names += list(cur_names)\n",
    "            ts += list(cur_ts)"
   ]
  },
  {
   "cell_type": "code",
   "execution_count": 13,
   "id": "3ebb5fb8",
   "metadata": {},
   "outputs": [
    {
     "ename": "NameError",
     "evalue": "name 'metrics' is not defined",
     "output_type": "error",
     "traceback": [
      "\u001b[0;31m---------------------------------------------------------------------------\u001b[0m",
      "\u001b[0;31mNameError\u001b[0m                                 Traceback (most recent call last)",
      "\u001b[0;32m<ipython-input-13-76d058452a80>\u001b[0m in \u001b[0;36m<module>\u001b[0;34m\u001b[0m\n\u001b[0;32m----> 1\u001b[0;31m \u001b[0mmetrics\u001b[0m\u001b[0;34m.\u001b[0m\u001b[0mprint_metrics_binary\u001b[0m\u001b[0;34m(\u001b[0m\u001b[0mlabels\u001b[0m\u001b[0;34m,\u001b[0m \u001b[0mpredictions\u001b[0m\u001b[0;34m)\u001b[0m\u001b[0;34m\u001b[0m\u001b[0;34m\u001b[0m\u001b[0m\n\u001b[0m",
      "\u001b[0;31mNameError\u001b[0m: name 'metrics' is not defined"
     ]
    }
   ],
   "source": [
    "metrics.print_metrics_binary(labels, predictions)"
   ]
  },
  {
   "cell_type": "code",
   "execution_count": null,
   "id": "667490e5",
   "metadata": {},
   "outputs": [],
   "source": []
  }
 ],
 "metadata": {
  "kernelspec": {
   "display_name": "conda_tensorflow_p36",
   "language": "python",
   "name": "conda_tensorflow_p36"
  },
  "language_info": {
   "codemirror_mode": {
    "name": "ipython",
    "version": 3
   },
   "file_extension": ".py",
   "mimetype": "text/x-python",
   "name": "python",
   "nbconvert_exporter": "python",
   "pygments_lexer": "ipython3",
   "version": "3.6.13"
  }
 },
 "nbformat": 4,
 "nbformat_minor": 5
}
